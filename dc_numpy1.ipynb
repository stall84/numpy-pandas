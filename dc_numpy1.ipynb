{
 "cells": [
  {
   "cell_type": "markdown",
   "metadata": {},
   "source": [
    "### NUMPY - DATACAMP - 1\n",
    "<hr>\n",
    "<br>\n",
    "\n",
    "#### Numpy Array\n",
    "\n",
    "- Numpy arrays allow a user to make calculations on elements **in-order**\n",
    "- While you couldn't do something like the following with Python _Lists_, you **can** do with numpy:\n",
    "```\n",
    "height = np.array([1.73, 1.68, 1.71, 1.89, 1.79])     # In meters\n",
    "weight = np.array([65.4, 59.2, 63.6, 88.4, 68.7])     # In kilos\n",
    "bmi = weight / height ** 2\n",
    "# lists = *** ERROR ***\n",
    "# nparrays = array([21.85171573, 20.97505669, 21.75028214, 24.7473475 , 21.44127836])\n",
    "```\n",
    "- Numpy can work with arrays as though they were single values. The same cannot be done with the default _lists_\n",
    "- Numpy arrays, like classical arrays, must have a homogenous datatype . You cannot mix datatypes like with _lists_\n",
    "- You can also do handy math on numpy arrays like the following:\n",
    "```\n",
    "bmi > 23\n",
    "# array([False, False, False,  True, False])\n",
    "```"
   ]
  },
  {
   "cell_type": "code",
   "execution_count": 3,
   "metadata": {},
   "outputs": [
    {
     "data": {
      "text/plain": [
       "array([21.85171573, 20.97505669, 21.75028214, 24.7473475 , 21.44127836])"
      ]
     },
     "execution_count": 3,
     "metadata": {},
     "output_type": "execute_result"
    }
   ],
   "source": [
    "import numpy as np \n",
    "\n",
    "height = np.array([1.73, 1.68, 1.71, 1.89, 1.79])     # In meters\n",
    "weight = np.array([65.4, 59.2, 63.6, 88.4, 68.7])     # In kilos\n",
    "bmi = weight / height ** 2\n",
    "bmi"
   ]
  },
  {
   "cell_type": "code",
   "execution_count": 4,
   "metadata": {},
   "outputs": [
    {
     "data": {
      "text/plain": [
       "21.750282138093777"
      ]
     },
     "execution_count": 4,
     "metadata": {},
     "output_type": "execute_result"
    }
   ],
   "source": [
    "bmi[2]"
   ]
  },
  {
   "cell_type": "code",
   "execution_count": 5,
   "metadata": {},
   "outputs": [
    {
     "data": {
      "text/plain": [
       "array([False, False, False,  True, False])"
      ]
     },
     "execution_count": 5,
     "metadata": {},
     "output_type": "execute_result"
    }
   ],
   "source": [
    "bmi > 23"
   ]
  },
  {
   "cell_type": "code",
   "execution_count": null,
   "metadata": {},
   "outputs": [],
   "source": []
  }
 ],
 "metadata": {
  "kernelspec": {
   "display_name": "Python 3.10.1 64-bit",
   "language": "python",
   "name": "python3"
  },
  "language_info": {
   "codemirror_mode": {
    "name": "ipython",
    "version": 3
   },
   "file_extension": ".py",
   "mimetype": "text/x-python",
   "name": "python",
   "nbconvert_exporter": "python",
   "pygments_lexer": "ipython3",
   "version": "3.10.1"
  },
  "orig_nbformat": 4,
  "vscode": {
   "interpreter": {
    "hash": "949777d72b0d2535278d3dc13498b2535136f6dfe0678499012e853ee9abcab1"
   }
  }
 },
 "nbformat": 4,
 "nbformat_minor": 2
}
