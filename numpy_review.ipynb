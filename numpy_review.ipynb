{
 "cells": [
  {
   "cell_type": "code",
   "execution_count": 1,
   "metadata": {},
   "outputs": [],
   "source": [
    "import numpy as np"
   ]
  },
  {
   "cell_type": "markdown",
   "metadata": {},
   "source": [
    "*These first examples are _casting_ regular python lists to numpy arrays*"
   ]
  },
  {
   "cell_type": "code",
   "execution_count": 2,
   "metadata": {},
   "outputs": [
    {
     "data": {
      "text/plain": [
       "array(['1', '2', '3', 'h'], dtype='<U21')"
      ]
     },
     "execution_count": 2,
     "metadata": {},
     "output_type": "execute_result"
    }
   ],
   "source": [
    "reg_list = [1,2,3,'h']\n",
    "norm_list = [55,83,203]\n",
    "\n",
    "arr = np.array(reg_list)\n",
    "reg_arr = np.array(norm_list)\n",
    "arr"
   ]
  },
  {
   "cell_type": "code",
   "execution_count": 3,
   "metadata": {},
   "outputs": [
    {
     "data": {
      "text/plain": [
       "array([ 55,  83, 203])"
      ]
     },
     "execution_count": 3,
     "metadata": {},
     "output_type": "execute_result"
    }
   ],
   "source": [
    "reg_arr"
   ]
  },
  {
   "cell_type": "markdown",
   "metadata": {},
   "source": [
    "*You can manually create matrices, etc*"
   ]
  },
  {
   "cell_type": "code",
   "execution_count": 4,
   "metadata": {},
   "outputs": [],
   "source": [
    "my_matrice = [[1,2,3],[4,5,6],[7,8,9]]\n",
    "cast_matrix = np.array(my_matrice)"
   ]
  },
  {
   "cell_type": "code",
   "execution_count": 5,
   "metadata": {},
   "outputs": [
    {
     "data": {
      "text/plain": [
       "2"
      ]
     },
     "execution_count": 5,
     "metadata": {},
     "output_type": "execute_result"
    }
   ],
   "source": [
    "cast_matrix.ndim\n"
   ]
  },
  {
   "cell_type": "code",
   "execution_count": 6,
   "metadata": {},
   "outputs": [
    {
     "data": {
      "text/plain": [
       "array([[1, 2, 3],\n",
       "       [4, 5, 6],\n",
       "       [7, 8, 9]])"
      ]
     },
     "execution_count": 6,
     "metadata": {},
     "output_type": "execute_result"
    }
   ],
   "source": [
    "cast_matrix"
   ]
  },
  {
   "cell_type": "markdown",
   "metadata": {},
   "source": [
    "*To create arrays _'intrinsically'_ within numpy.. use _arrange()_*\n",
    "- Takes arguments of _start_, _stop_ and _step_ for indexing.\n",
    "- Very similar to python's _range()_"
   ]
  },
  {
   "cell_type": "code",
   "execution_count": 7,
   "metadata": {},
   "outputs": [
    {
     "data": {
      "text/plain": [
       "array([ 0,  2,  4,  6,  8, 10])"
      ]
     },
     "execution_count": 7,
     "metadata": {},
     "output_type": "execute_result"
    }
   ],
   "source": [
    "npy_arr1 = np.arange(0,11,2) \n",
    "npy_arr1"
   ]
  },
  {
   "cell_type": "code",
   "execution_count": 11,
   "metadata": {},
   "outputs": [
    {
     "data": {
      "text/plain": [
       "array([[1, 2, 3],\n",
       "       [4, 5, 6]])"
      ]
     },
     "execution_count": 11,
     "metadata": {},
     "output_type": "execute_result"
    }
   ],
   "source": [
    "two_d_from_list = np.array([[1,2,3], [4,5,6]])\n",
    "\n",
    "two_d_from_list"
   ]
  },
  {
   "cell_type": "code",
   "execution_count": 19,
   "metadata": {},
   "outputs": [
    {
     "name": "stdout",
     "output_type": "stream",
     "text": [
      "[ 55  83 203]\n",
      "[[1 2 3]\n",
      " [4 5 6]]\n",
      "[[0 2 4 6]\n",
      " [1 3 5 7]]\n",
      "shape:  (3,)\n",
      "shape:  (2, 3)\n",
      "shape:  (2, 4)\n"
     ]
    }
   ],
   "source": [
    "\n",
    "## Understanding shapes of arrays \n",
    "\n",
    "two_d_array = np.array((np.arange(0, 8, 2), np.arange(1, 8, 2)))\n",
    "\n",
    "holder = [reg_arr, two_d_from_list, two_d_array]\n",
    "\n",
    "# two_d_array\n",
    "\n",
    "for ele in holder:\n",
    "    print(ele)\n",
    "\n",
    "for shp in holder:\n",
    "    print('shape: ', shp.shape)"
   ]
  },
  {
   "cell_type": "code",
   "execution_count": 20,
   "metadata": {},
   "outputs": [
    {
     "data": {
      "text/plain": [
       "array([[1, 2],\n",
       "       [3, 4],\n",
       "       [5, 6]])"
      ]
     },
     "execution_count": 20,
     "metadata": {},
     "output_type": "execute_result"
    }
   ],
   "source": [
    "two_d_from_list.reshape(3,2)"
   ]
  }
 ],
 "metadata": {
  "kernelspec": {
   "display_name": "Python 3.10.1 ('.venv': venv)",
   "language": "python",
   "name": "python3"
  },
  "language_info": {
   "codemirror_mode": {
    "name": "ipython",
    "version": 3
   },
   "file_extension": ".py",
   "mimetype": "text/x-python",
   "name": "python",
   "nbconvert_exporter": "python",
   "pygments_lexer": "ipython3",
   "version": "3.10.1"
  },
  "orig_nbformat": 4,
  "vscode": {
   "interpreter": {
    "hash": "168d718c8a0a16080bfa0129a5bf15ba574f9cc37846defbd5d629526f2931b6"
   }
  }
 },
 "nbformat": 4,
 "nbformat_minor": 2
}
